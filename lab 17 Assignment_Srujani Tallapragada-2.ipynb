{
 "cells": [
  {
   "cell_type": "code",
   "execution_count": 12,
   "metadata": {},
   "outputs": [
    {
     "name": "stdout",
     "output_type": "stream",
     "text": [
      "['that', 'first', 'case', 'car', 'programming', 'this', 'fun', 'easy', 'book', 'is', 'very', 'easy', 'we', ' love', ' in', ' python']\n",
      "['thes is the firs cas', ' programing is fan and eesy', 'thes is vary essy', ' wee loe pythen']\n"
     ]
    }
   ],
   "source": [
    "org=open(\"Original.txt\",\"r\").read().lower().split(\".\")\n",
    "cs=open(\"correct_spelled.txt\",\"r\").read().lower().split(\",\")\n",
    "new=open(\"corrected-file.txt\",\"w\")\n",
    "for i in cs:\n",
    "    i.strip()\n",
    "for j in org:\n",
    "    j.strip()\n",
    "lst1=[]\n",
    "for i in cs:\n",
    "    lst1.append(i)\n",
    "lst2=[]\n",
    "for j in org:\n",
    "    j.strip(\" \")\n",
    "for i in org:\n",
    "    lst2.append(i)\n",
    "print(lst1)\n",
    "print(lst2)\n"
   ]
  },
  {
   "cell_type": "code",
   "execution_count": 1,
   "metadata": {},
   "outputs": [
    {
     "ename": "SyntaxError",
     "evalue": "unexpected EOF while parsing (<ipython-input-1-088f6c35db08>, line 14)",
     "output_type": "error",
     "traceback": [
      "\u001b[1;36m  File \u001b[1;32m\"<ipython-input-1-088f6c35db08>\"\u001b[1;36m, line \u001b[1;32m14\u001b[0m\n\u001b[1;33m    \u001b[0m\n\u001b[1;37m    ^\u001b[0m\n\u001b[1;31mSyntaxError\u001b[0m\u001b[1;31m:\u001b[0m unexpected EOF while parsing\n"
     ]
    }
   ],
   "source": [
    "org=open(\"Original.txt\",\"r\").read().lower().split(\".\")\n",
    "cs=open(\"correct_spelled.txt\",\"r\").read().lower().split(\",\")\n",
    "new=open(\"corrected-file.txt\",\"w\")\n",
    "lst1=[]\n",
    "for i in org:\n",
    "    word=i.split(\" \")\n",
    "    for i in word:\n",
    "        lst1.append(i)\n",
    "lst2=[]\n",
    "for i in cs:\n",
    "    lst2.append(i)\n",
    "for i in lst1,j in lst2:\n",
    "    for k in i,i in j:\n",
    "        if(k==1):\n",
    "            sum+=1\n",
    "            new.write(i)\n",
    "        if(sum1==)\n",
    "    \n",
    "        \n",
    "\n",
    "        "
   ]
  },
  {
   "cell_type": "code",
   "execution_count": null,
   "metadata": {},
   "outputs": [],
   "source": []
  },
  {
   "cell_type": "code",
   "execution_count": null,
   "metadata": {},
   "outputs": [],
   "source": []
  },
  {
   "cell_type": "code",
   "execution_count": null,
   "metadata": {},
   "outputs": [],
   "source": []
  },
  {
   "cell_type": "code",
   "execution_count": null,
   "metadata": {},
   "outputs": [],
   "source": []
  }
 ],
 "metadata": {
  "kernelspec": {
   "display_name": "Python 3",
   "language": "python",
   "name": "python3"
  },
  "language_info": {
   "codemirror_mode": {
    "name": "ipython",
    "version": 3
   },
   "file_extension": ".py",
   "mimetype": "text/x-python",
   "name": "python",
   "nbconvert_exporter": "python",
   "pygments_lexer": "ipython3",
   "version": "3.6.5"
  }
 },
 "nbformat": 4,
 "nbformat_minor": 2
}
